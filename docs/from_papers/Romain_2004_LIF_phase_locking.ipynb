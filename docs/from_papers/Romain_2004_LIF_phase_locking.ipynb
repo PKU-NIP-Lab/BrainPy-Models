{
 "cells": [
  {
   "cell_type": "markdown",
   "metadata": {},
   "source": [
    "# _(Brette, Romain. 2004)_ LIF phase locking "
   ]
  },
  {
   "cell_type": "markdown",
   "metadata": {},
   "source": [
    "Implementation of the paper:\n",
    "\n",
    "- Brette, Romain. \"Dynamics of one-dimensional spiking neuron\n",
    "  models.\" Journal of mathematical biology 48.1 (2004): 38-56."
   ]
  },
  {
   "cell_type": "code",
   "execution_count": 1,
   "metadata": {
    "ExecuteTime": {
     "end_time": "2021-03-28T09:23:00.279518Z",
     "start_time": "2021-03-28T09:22:58.614954Z"
    }
   },
   "outputs": [],
   "source": [
    "import matplotlib.pyplot as plt\n",
    "import brainpy as bp\n",
    "import numpy as np"
   ]
  },
  {
   "cell_type": "code",
   "execution_count": 2,
   "metadata": {
    "ExecuteTime": {
     "end_time": "2021-03-28T09:23:00.295482Z",
     "start_time": "2021-03-28T09:23:00.282486Z"
    }
   },
   "outputs": [],
   "source": [
    "# set parameters\n",
    "num = 2000\n",
    "tau = 100.  # ms\n",
    "Vth = 1.  # mV\n",
    "Vr = 0.  # mV\n",
    "inputs = np.linspace(2., 4., num)"
   ]
  },
  {
   "cell_type": "code",
   "execution_count": 3,
   "metadata": {
    "ExecuteTime": {
     "end_time": "2021-03-28T09:23:00.327512Z",
     "start_time": "2021-03-28T09:23:00.301483Z"
    }
   },
   "outputs": [],
   "source": [
    "class LIF(bp.NeuGroup):\n",
    "    target_backend = ['numpy', 'numba']\n",
    "\n",
    "    def __init__(self, size, **kwargs):\n",
    "        self.V = bp.ops.zeros(size)\n",
    "        self.spike = bp.ops.zeros(size)\n",
    "        super(LIF, self).__init__(size, **kwargs)\n",
    "\n",
    "    @staticmethod\n",
    "    @bp.odeint\n",
    "    def int_f(V, t):\n",
    "        return (-V + inputs + 2 * np.sin(2 * np.pi * t / tau)) / tau\n",
    "\n",
    "    def update(self, _t):\n",
    "        V = self.int_f(self.V, _t)\n",
    "        self.spike = np.asarray(V >= Vth, dtype=np.float_)\n",
    "        self.V = np.where(self.spike > 0., Vr, V)"
   ]
  },
  {
   "cell_type": "code",
   "execution_count": 4,
   "metadata": {
    "ExecuteTime": {
     "end_time": "2021-03-28T09:23:02.465393Z",
     "start_time": "2021-03-28T09:23:00.330484Z"
    }
   },
   "outputs": [
    {
     "name": "stdout",
     "output_type": "stream",
     "text": [
      "Compilation used 0.0010 s.\n",
      "Start running ...\n",
      "Run 10.0% used 0.236 s.\n",
      "Run 20.0% used 0.476 s.\n",
      "Run 30.0% used 0.668 s.\n",
      "Run 40.0% used 0.866 s.\n",
      "Run 50.0% used 1.066 s.\n",
      "Run 60.0% used 1.279 s.\n",
      "Run 70.0% used 1.482 s.\n",
      "Run 80.0% used 1.682 s.\n",
      "Run 90.0% used 1.905 s.\n",
      "Run 100.0% used 2.119 s.\n",
      "Simulation is done in 2.119 s.\n",
      "\n"
     ]
    }
   ],
   "source": [
    "group = LIF(num, monitors=['spike'])\n",
    "group.run(duration=5 * 1000., report=True)"
   ]
  },
  {
   "cell_type": "code",
   "execution_count": 5,
   "metadata": {
    "ExecuteTime": {
     "end_time": "2021-03-28T09:23:03.287397Z",
     "start_time": "2021-03-28T09:23:02.470398Z"
    }
   },
   "outputs": [
    {
     "data": {
      "image/png": "[encoded data removed]",
      "text/plain": [
       "<Figure size 432x288 with 1 Axes>"
      ]
     },
     "metadata": {
      "needs_background": "light"
     },
     "output_type": "display_data"
    }
   ],
   "source": [
    "indices, times = bp.measure.raster_plot(group.mon.spike, group.mon.ts)\n",
    "plt.plot((times % tau) / tau, inputs[indices], ',')\n",
    "plt.xlabel('Spike phase')\n",
    "plt.ylabel('Parameter (input)')\n",
    "plt.show()"
   ]
  }
 ],
 "metadata": {
  "hide_input": false,
  "kernelspec": {
   "display_name": "Python 3",
   "language": "python",
   "name": "python3"
  },
  "language_info": {
   "codemirror_mode": {
    "name": "ipython",
    "version": 3
   },
   "file_extension": ".py",
   "mimetype": "text/x-python",
   "name": "python",
   "nbconvert_exporter": "python",
   "pygments_lexer": "ipython3",
   "version": "3.8.5"
  },
  "toc": {
   "base_numbering": 1,
   "nav_menu": {},
   "number_sections": false,
   "sideBar": true,
   "skip_h1_title": false,
   "title_cell": "Table of Contents",
   "title_sidebar": "Contents",
   "toc_cell": false,
   "toc_position": {},
   "toc_section_display": true,
   "toc_window_display": true
  },
  "varInspector": {
   "cols": {
    "lenName": 16,
    "lenType": 16,
    "lenVar": 40
   },
   "kernels_config": {
    "python": {
     "delete_cmd_postfix": "",
     "delete_cmd_prefix": "del ",
     "library": "var_list.py",
     "varRefreshCmd": "print(var_dic_list())"
    },
    "r": {
     "delete_cmd_postfix": ") ",
     "delete_cmd_prefix": "rm(",
     "library": "var_list.r",
     "varRefreshCmd": "cat(var_dic_list()) "
    }
   },
   "types_to_exclude": [
    "module",
    "function",
    "builtin_function_or_method",
    "instance",
    "_Feature"
   ],
   "window_display": false
  }
 },
 "nbformat": 4,
 "nbformat_minor": 4
}
