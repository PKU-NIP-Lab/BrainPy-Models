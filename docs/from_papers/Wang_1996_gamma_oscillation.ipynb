{
 "cells": [
  {
   "cell_type": "markdown",
   "metadata": {},
   "source": [
    "# _(Wang & Buzsáki, 1996)_ Gamma Oscillation"
   ]
  },
  {
   "cell_type": "markdown",
   "metadata": {},
   "source": [
    "Here we show the implementation of gamma oscillation proposed by Xiao-Jing Wang and György Buzsáki (1996). They demonstrated that the GABA$_A$ synaptic transmission provides a suitable mechanism for synchronized gamma oscillations in a network of fast-spiking interneurons. "
   ]
  },
  {
   "cell_type": "markdown",
   "metadata": {},
   "source": [
    "Let's first import brainpy and set profiles."
   ]
  },
  {
   "cell_type": "code",
   "execution_count": 1,
   "metadata": {
    "ExecuteTime": {
     "end_time": "2021-03-25T15:37:54.295958Z",
     "start_time": "2021-03-25T15:37:52.703039Z"
    }
   },
   "outputs": [],
   "source": [
    "import brainpy as bp\n",
    "\n",
    "bp.integrators.set_default_odeint('rk4')"
   ]
  },
  {
   "cell_type": "markdown",
   "metadata": {},
   "source": [
    "The network is constructed with Hodgkin–Huxley (HH) type neurons and GABA$_A$ synapses. "
   ]
  },
  {
   "cell_type": "markdown",
   "metadata": {},
   "source": [
    "The GABA$_A$ synapse is coded as:"
   ]
  },
  {
   "cell_type": "code",
   "execution_count": 2,
   "metadata": {
    "ExecuteTime": {
     "end_time": "2021-03-25T15:37:54.331101Z",
     "start_time": "2021-03-25T15:37:54.295958Z"
    }
   },
   "outputs": [],
   "source": [
    "class GABAa(bp.TwoEndConn):\n",
    "    target_backend = ['numpy', 'numba']\n",
    "\n",
    "    def __init__(self, pre, post, conn, delay=0., g_max=0.1, E=-75.,\n",
    "                 alpha=12., beta=0.1, T=1.0, T_duration=1.0, **kwargs):\n",
    "        # parameters\n",
    "        self.g_max = g_max\n",
    "        self.E = E\n",
    "        self.alpha = alpha\n",
    "        self.beta = beta\n",
    "        self.T = T\n",
    "        self.T_duration = T_duration\n",
    "        self.delay = delay\n",
    "\n",
    "        # connections\n",
    "        self.conn = conn(pre.size, post.size)\n",
    "        self.conn_mat = self.conn.requires('conn_mat')\n",
    "        self.size = bp.ops.shape(self.conn_mat)\n",
    "\n",
    "        # variables\n",
    "        self.s = bp.ops.zeros(self.size)\n",
    "        self.t_last_pre_spike = bp.ops.ones(self.size) * -1e7\n",
    "        self.g = self.register_constant_delay('g', size=self.size, delay_time=delay)\n",
    "\n",
    "        super(GABAa, self).__init__(pre=pre, post=post, **kwargs)\n",
    "\n",
    "    @staticmethod\n",
    "    @bp.odeint\n",
    "    def int_s(s, t, TT, alpha, beta):\n",
    "        return alpha * TT * (1 - s) - beta * s\n",
    "\n",
    "    def update(self, _t):\n",
    "        for i in range(self.pre.size[0]):\n",
    "            if self.pre.spike[i] > 0:\n",
    "                self.t_last_pre_spike[i] = _t\n",
    "        TT = ((_t - self.t_last_pre_spike) < self.T_duration) * self.T\n",
    "        self.s = self.int_s(self.s, _t, TT, self.alpha, self.beta)\n",
    "        self.g.push(self.g_max * self.s)\n",
    "        g = self.g.pull()\n",
    "        self.post.input -= bp.ops.sum(g, axis=0) * (self.post.V - self.E)"
   ]
  },
  {
   "cell_type": "markdown",
   "metadata": {},
   "source": [
    "The dynamics of the HH type neurons is given by:\n",
    "\n",
    "$$ C \\frac {dV} {dt} = -(I_{Na} + I_{K} + I_L) + I(t) $$\n",
    "\n",
    "where $I(t)$ is the injected current, the leak current $ I_L = g_L (V - E_L) $, and the transient sodium current \n",
    "\n",
    "$$ I_{Na} = g_{Na} m_{\\infty}^3 h (V - E_{Na}) $$\n",
    "\n",
    "where the activation variable $m$ is assumed fast and substituted by its steady-state function \n",
    "$m_{\\infty} = \\alpha_m / (\\alpha_m + \\beta_m)$.\n",
    "And the inactivation variable $h$ obeys a first=order kinetics:\n",
    "$$ \\frac {dh} {dt} = \\phi (\\alpha_h (1-h) - \\beta_h h)$$\n",
    "\n",
    "$$ I_K = g_K n^4 (V - E_K) $$\n",
    "\n",
    "where the activation variable $n$ also obeys a first=order kinetics:\n",
    "$$ \\frac {dn} {dt} = \\phi (\\alpha_n (1-n) - \\beta_n n)$$"
   ]
  },
  {
   "cell_type": "code",
   "execution_count": 3,
   "metadata": {
    "ExecuteTime": {
     "end_time": "2021-03-25T15:37:54.378121Z",
     "start_time": "2021-03-25T15:37:54.346549Z"
    }
   },
   "outputs": [],
   "source": [
    "class HH(bp.NeuGroup):\n",
    "    target_backend = 'general'\n",
    "\n",
    "    def __init__(self, size, ENa=55., EK=-90., EL=-65,\n",
    "                 C=1.0, gNa=35., gK=9., gL=0.1, V_th=20.,\n",
    "                 phi=5.0, **kwargs):\n",
    "        # parameters\n",
    "        self.ENa = ENa\n",
    "        self.EK = EK\n",
    "        self.EL = EL\n",
    "        self.C = C\n",
    "        self.gNa = gNa\n",
    "        self.gK = gK\n",
    "        self.gL = gL\n",
    "        self.V_th = V_th\n",
    "        self.phi = phi\n",
    "\n",
    "        # variables\n",
    "        self.V = bp.ops.ones(size) * -65.\n",
    "        self.h = bp.ops.ones(size) * 0.6\n",
    "        self.n = bp.ops.ones(size) * 0.32\n",
    "        self.spike = bp.ops.zeros(size)\n",
    "        self.input = bp.ops.zeros(size)\n",
    "\n",
    "        super(HH, self).__init__(size=size, **kwargs)\n",
    "\n",
    "    @staticmethod\n",
    "    @bp.odeint\n",
    "    def integral(V, h, n, t, Iext, gNa, ENa, gK, EK, gL, EL, C, phi):\n",
    "        alpha = 0.07 * bp.ops.exp(-(V + 58) / 20)\n",
    "        beta = 1 / (bp.ops.exp(-0.1 * (V + 28)) + 1)\n",
    "        dhdt = alpha * (1 - h) - beta * h\n",
    "\n",
    "        alpha = -0.01 * (V + 34) / (bp.ops.exp(-0.1 * (V + 34)) - 1)\n",
    "        beta = 0.125 * bp.ops.exp(-(V + 44) / 80)\n",
    "        dndt = alpha * (1 - n) - beta * n\n",
    "\n",
    "        m_alpha = -0.1 * (V + 35) / (bp.ops.exp(-0.1 * (V + 35)) - 1)\n",
    "        m_beta = 4 * bp.ops.exp(-(V + 60) / 18)\n",
    "        m = m_alpha / (m_alpha + m_beta)\n",
    "        INa = gNa * m ** 3 * h * (V - ENa)\n",
    "        IK = gK * n ** 4 * (V - EK)\n",
    "        IL = gL * (V - EL)\n",
    "        dVdt = (- INa - IK - IL + Iext) / C\n",
    "\n",
    "        return dVdt, phi * dhdt, phi * dndt\n",
    "\n",
    "    def update(self, _t):\n",
    "        V, h, n = self.integral(self.V, self.h, self.n, _t,\n",
    "                                self.input, self.gNa, self.ENa, self.gK,\n",
    "                                self.EK, self.gL, self.EL, self.C, self.phi)\n",
    "        self.spike = (self.V < self.V_th) * (V >= self.V_th)\n",
    "        self.V = V\n",
    "        self.h = h\n",
    "        self.n = n\n",
    "        self.input[:] = 0\n"
   ]
  },
  {
   "cell_type": "markdown",
   "metadata": {},
   "source": [
    "Let's run a simulation of a network with 100 neurons with constant inputs (1 $\\mu$A/cm$^2$)."
   ]
  },
  {
   "cell_type": "code",
   "execution_count": 4,
   "metadata": {
    "ExecuteTime": {
     "end_time": "2021-03-25T15:37:59.835794Z",
     "start_time": "2021-03-25T15:37:54.382015Z"
    }
   },
   "outputs": [
    {
     "data": {
      "image/png": "[encoded data removed]",
      "text/plain": [
       "<Figure size 576x432 with 2 Axes>"
      ]
     },
     "metadata": {
      "needs_background": "light"
     },
     "output_type": "display_data"
    }
   ],
   "source": [
    "num = 100\n",
    "neu = HH(num, monitors=['spike', 'V'])\n",
    "neu.V = -70. + bp.ops.normal(size=num) * 20\n",
    "\n",
    "syn = GABAa(pre=neu, post=neu, conn=bp.connect.All2All(include_self=False))\n",
    "syn.g_max = 0.1 / num\n",
    "\n",
    "net = bp.Network(neu, syn)\n",
    "net.run(duration=500., inputs=[neu, 'input', 1.], report=False)\n",
    "\n",
    "fig, gs = bp.visualize.get_figure(2, 1, 3, 8)\n",
    "xlim = (net.t_start - 0.1, net.t_end + 0.1)\n",
    "\n",
    "fig.add_subplot(gs[0, 0])\n",
    "bp.visualize.line_plot(net.ts, neu.mon.V, xlim=xlim, ylabel='Membrane potential (N0)')\n",
    "\n",
    "fig.add_subplot(gs[1, 0])\n",
    "bp.visualize.raster_plot(net.ts, neu.mon.spike, xlim=xlim, show=True)\n"
   ]
  },
  {
   "cell_type": "markdown",
   "metadata": {},
   "source": [
    "We can see the result of this simulation that cells starting at random and asynchronous initial conditions quickly become synchronized and their spiking times are perfectly in-phase within 5-6 oscillatory cycles."
   ]
  },
  {
   "cell_type": "markdown",
   "metadata": {},
   "source": [
    "### Reference"
   ]
  },
  {
   "cell_type": "markdown",
   "metadata": {},
   "source": [
    "[1] Wang, Xiao-Jing, and György Buzsáki. “Gamma oscillation by\n",
    "synaptic inhibition in a hippocampal interneuronal network\n",
    "model.” Journal of neuroscience 16.20 (1996): 6402-6413."
   ]
  }
 ],
 "metadata": {
  "hide_input": false,
  "kernelspec": {
   "display_name": "Python 3",
   "language": "python",
   "name": "python3"
  },
  "language_info": {
   "codemirror_mode": {
    "name": "ipython",
    "version": 3
   },
   "file_extension": ".py",
   "mimetype": "text/x-python",
   "name": "python",
   "nbconvert_exporter": "python",
   "pygments_lexer": "ipython3",
   "version": "3.8.5"
  },
  "toc": {
   "base_numbering": 1,
   "nav_menu": {},
   "number_sections": false,
   "sideBar": true,
   "skip_h1_title": false,
   "title_cell": "Table of Contents",
   "title_sidebar": "Contents",
   "toc_cell": false,
   "toc_position": {
    "height": "calc(100% - 180px)",
    "left": "10px",
    "top": "150px",
    "width": "243.07px"
   },
   "toc_section_display": true,
   "toc_window_display": false
  },
  "varInspector": {
   "cols": {
    "lenName": 16,
    "lenType": 16,
    "lenVar": 40
   },
   "kernels_config": {
    "python": {
     "delete_cmd_postfix": "",
     "delete_cmd_prefix": "del ",
     "library": "var_list.py",
     "varRefreshCmd": "print(var_dic_list())"
    },
    "r": {
     "delete_cmd_postfix": ") ",
     "delete_cmd_prefix": "rm(",
     "library": "var_list.r",
     "varRefreshCmd": "cat(var_dic_list()) "
    }
   },
   "types_to_exclude": [
    "module",
    "function",
    "builtin_function_or_method",
    "instance",
    "_Feature"
   ],
   "window_display": false
  }
 },
 "nbformat": 4,
 "nbformat_minor": 4
}
