{
 "cells": [
  {
   "cell_type": "markdown",
   "metadata": {},
   "source": [
    "# _(Brette, et, al., 2007)_ CUBA"
   ]
  },
  {
   "cell_type": "markdown",
   "metadata": {},
   "source": [
    "Implementation of the paper:\n",
    "\n",
    "- Brette, R., Rudolph, M., Carnevale, T., Hines, M., Beeman, D., Bower, J. M., et al. (2007), Simulation of networks of spiking neurons: a review of tools and strategies., J. Comput. Neurosci., 23, 3, 349–98\n",
    "\n",
    "which is based on the balanced network proposed by:\n",
    "\n",
    "- Vogels, T. P. and Abbott, L. F. (2005), Signal propagation and logic gating in networks of integrate-and-fire neurons., J. Neurosci., 25, 46, 10786–95"
   ]
  },
  {
   "cell_type": "code",
   "execution_count": 1,
   "metadata": {
    "ExecuteTime": {
     "end_time": "2021-03-28T06:02:26.741007Z",
     "start_time": "2021-03-28T06:02:25.182343Z"
    }
   },
   "outputs": [],
   "source": [
    "import numpy as np\n",
    "import brainpy as bp"
   ]
  },
  {
   "cell_type": "code",
   "execution_count": 2,
   "metadata": {
    "ExecuteTime": {
     "end_time": "2021-03-28T06:02:26.775653Z",
     "start_time": "2021-03-28T06:02:26.750659Z"
    }
   },
   "outputs": [],
   "source": [
    "bp.backend.set('numba', dt=0.1)"
   ]
  },
  {
   "cell_type": "code",
   "execution_count": 3,
   "metadata": {
    "ExecuteTime": {
     "end_time": "2021-03-28T06:02:26.791651Z",
     "start_time": "2021-03-28T06:02:26.778654Z"
    },
    "lines_to_next_cell": 1
   },
   "outputs": [],
   "source": [
    "num_exc = 3200\n",
    "num_inh = 800\n",
    "taum = 20\n",
    "taue = 5\n",
    "taui = 10\n",
    "Vt = -50\n",
    "Vr = -60\n",
    "El = -49\n",
    "we = 60 * 0.27 / 10  # excitatory synaptic weight (voltage)\n",
    "wi = -20 * 4.5 / 10  # inhibitory synaptic weight\n",
    "ref = 5.0"
   ]
  },
  {
   "cell_type": "code",
   "execution_count": 4,
   "metadata": {
    "ExecuteTime": {
     "end_time": "2021-03-28T06:02:26.807656Z",
     "start_time": "2021-03-28T06:02:26.794653Z"
    }
   },
   "outputs": [],
   "source": [
    "\n",
    "class LIF(bp.NeuGroup):\n",
    "    target_backend = ['numpy', 'numba']\n",
    "\n",
    "    def __init__(self, size, **kwargs):\n",
    "        self.V = bp.backend.ones(size) * Vr\n",
    "        self.spike = bp.backend.zeros(size, dtype=bool)\n",
    "        self.ge = bp.backend.zeros(size)\n",
    "        self.gi = bp.backend.zeros(size)\n",
    "        self.t_spike = -1e7 * bp.backend.ones(size)\n",
    "        super(LIF, self).__init__(size=size, **kwargs)\n",
    "\n",
    "    @staticmethod\n",
    "    @bp.odeint\n",
    "    def int_g(ge, gi, t):\n",
    "        dge = - ge / taue\n",
    "        dgi = - gi / taui\n",
    "        return dge, dgi\n",
    "\n",
    "    @staticmethod\n",
    "    @bp.odeint\n",
    "    def int_V(V, t, ge, gi):\n",
    "        return (ge + gi + (El - V)) / taum\n",
    "\n",
    "    def update(self, _t):\n",
    "        self.ge, self.gi = self.int_g(self.ge, self.gi, _t)\n",
    "        for i in range(self.num):\n",
    "            self.spike[i] = 0.\n",
    "            if (_t - self.t_spike[i]) > ref:\n",
    "                V = self.int_V(self.V[i], _t, self.ge[i], self.gi[i])\n",
    "                self.spike[i] = 0.\n",
    "                if V >= Vt:\n",
    "                    self.V[i] = Vr\n",
    "                    self.spike[i] = 1.\n",
    "                    self.t_spike[i] = _t\n",
    "                else:\n",
    "                    self.V[i] = V\n",
    "\n"
   ]
  },
  {
   "cell_type": "code",
   "execution_count": 5,
   "metadata": {
    "ExecuteTime": {
     "end_time": "2021-03-28T06:02:26.823678Z",
     "start_time": "2021-03-28T06:02:26.811660Z"
    }
   },
   "outputs": [],
   "source": [
    "class ExcSyn(bp.TwoEndConn):\n",
    "    target_backend = ['numpy', 'numba']\n",
    "\n",
    "    def __init__(self, pre, post, conn, **kwargs):\n",
    "        self.conn = conn(pre.size, post.size)\n",
    "        self.pre2post = self.conn.requires('pre2post')\n",
    "        super(ExcSyn, self).__init__(pre, post, **kwargs)\n",
    "\n",
    "    def update(self):\n",
    "        for pre_id in range(self.pre.num):\n",
    "            if self.pre.spike[pre_id] > 0.:\n",
    "                post_ids = self.pre2post[pre_id]\n",
    "                for i in post_ids:\n",
    "                    self.post.ge[i] += we"
   ]
  },
  {
   "cell_type": "code",
   "execution_count": 6,
   "metadata": {
    "ExecuteTime": {
     "end_time": "2021-03-28T06:02:26.854600Z",
     "start_time": "2021-03-28T06:02:26.827676Z"
    },
    "lines_to_next_cell": 1
   },
   "outputs": [],
   "source": [
    "class InhSyn(bp.TwoEndConn):\n",
    "    target_backend = ['numpy', 'numba']\n",
    "\n",
    "    def __init__(self, pre, post, conn, **kwargs):\n",
    "        self.conn = conn(pre.size, post.size)\n",
    "        self.pre2post = self.conn.requires('pre2post')\n",
    "        super(InhSyn, self).__init__(pre, post, **kwargs)\n",
    "\n",
    "    def update(self):\n",
    "        for pre_id in range(self.pre.num):\n",
    "            if self.pre.spike[pre_id] > 0.:\n",
    "                post_ids = self.pre2post[pre_id]\n",
    "                for i in post_ids:\n",
    "                    self.post.gi[i] += wi"
   ]
  },
  {
   "cell_type": "code",
   "execution_count": 7,
   "metadata": {
    "ExecuteTime": {
     "end_time": "2021-03-28T06:02:26.869754Z",
     "start_time": "2021-03-28T06:02:26.858603Z"
    }
   },
   "outputs": [],
   "source": [
    "E_group = LIF(num_exc, monitors=['spike'])\n",
    "I_group = LIF(num_inh)\n",
    "E_group.V = Vr + np.random.rand(num_exc) * (Vt - Vr)\n",
    "I_group.V = Vr + np.random.rand(num_inh) * (Vt - Vr)"
   ]
  },
  {
   "cell_type": "code",
   "execution_count": 8,
   "metadata": {
    "ExecuteTime": {
     "end_time": "2021-03-28T06:02:28.007105Z",
     "start_time": "2021-03-28T06:02:26.876748Z"
    }
   },
   "outputs": [],
   "source": [
    "E2E = ExcSyn(pre=E_group, post=E_group, conn=bp.connect.FixedProb(prob=0.02))\n",
    "E2I = ExcSyn(pre=E_group, post=I_group, conn=bp.connect.FixedProb(prob=0.02))\n",
    "I2E = InhSyn(pre=I_group, post=E_group, conn=bp.connect.FixedProb(prob=0.02))\n",
    "I2I = InhSyn(pre=I_group, post=I_group, conn=bp.connect.FixedProb(prob=0.02))"
   ]
  },
  {
   "cell_type": "code",
   "execution_count": 9,
   "metadata": {
    "ExecuteTime": {
     "end_time": "2021-03-28T06:02:31.910637Z",
     "start_time": "2021-03-28T06:02:28.007105Z"
    }
   },
   "outputs": [
    {
     "name": "stdout",
     "output_type": "stream",
     "text": [
      "Compilation used 3.1382 s.\n",
      "Start running ...\n",
      "Run 10.0% used 0.020 s.\n",
      "Run 20.0% used 0.050 s.\n",
      "Run 30.0% used 0.070 s.\n",
      "Run 40.0% used 0.090 s.\n",
      "Run 50.0% used 0.110 s.\n",
      "Run 60.0% used 0.140 s.\n",
      "Run 70.0% used 0.160 s.\n",
      "Run 80.0% used 0.180 s.\n",
      "Run 90.0% used 0.221 s.\n",
      "Run 100.0% used 0.248 s.\n",
      "Simulation is done in 0.248 s.\n",
      "\n"
     ]
    },
    {
     "data": {
      "image/png": "[encoded data removed]",
      "text/plain": [
       "<Figure size 432x288 with 1 Axes>"
      ]
     },
     "metadata": {
      "needs_background": "light"
     },
     "output_type": "display_data"
    }
   ],
   "source": [
    "net = bp.Network(E_group, I_group, E2E, E2I, I2I, I2E)\n",
    "net.run(400., report=True)\n",
    "bp.visualize.raster_plot(net.ts, E_group.mon.spike, show=True)"
   ]
  }
 ],
 "metadata": {
  "hide_input": false,
  "jupytext": {
   "encoding": "# -*- coding: utf-8 -*-"
  },
  "kernelspec": {
   "display_name": "Python 3",
   "language": "python",
   "name": "python3"
  },
  "language_info": {
   "codemirror_mode": {
    "name": "ipython",
    "version": 3
   },
   "file_extension": ".py",
   "mimetype": "text/x-python",
   "name": "python",
   "nbconvert_exporter": "python",
   "pygments_lexer": "ipython3",
   "version": "3.8.5"
  },
  "toc": {
   "base_numbering": 1,
   "nav_menu": {},
   "number_sections": false,
   "sideBar": true,
   "skip_h1_title": false,
   "title_cell": "Table of Contents",
   "title_sidebar": "Contents",
   "toc_cell": false,
   "toc_position": {},
   "toc_section_display": true,
   "toc_window_display": false
  },
  "varInspector": {
   "cols": {
    "lenName": 16,
    "lenType": 16,
    "lenVar": 40
   },
   "kernels_config": {
    "python": {
     "delete_cmd_postfix": "",
     "delete_cmd_prefix": "del ",
     "library": "var_list.py",
     "varRefreshCmd": "print(var_dic_list())"
    },
    "r": {
     "delete_cmd_postfix": ") ",
     "delete_cmd_prefix": "rm(",
     "library": "var_list.r",
     "varRefreshCmd": "cat(var_dic_list()) "
    }
   },
   "types_to_exclude": [
    "module",
    "function",
    "builtin_function_or_method",
    "instance",
    "_Feature"
   ],
   "window_display": false
  }
 },
 "nbformat": 4,
 "nbformat_minor": 4
}
