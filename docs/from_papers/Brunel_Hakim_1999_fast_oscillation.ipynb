{
 "cells": [
  {
   "cell_type": "markdown",
   "metadata": {},
   "source": [
    "# _(Brunel & Hakim, 1999)_ Fast Global Oscillation"
   ]
  },
  {
   "cell_type": "markdown",
   "metadata": {},
   "source": [
    "Implementation of the paper:\n",
    "\n",
    "- Brunel, Nicolas, and Vincent Hakim. \"Fast global oscillations in networks of integrate-and-fire neurons with low firing rates.\" Neural computation 11.7 (1999): 1621-1671."
   ]
  },
  {
   "cell_type": "code",
   "execution_count": 1,
   "metadata": {
    "ExecuteTime": {
     "end_time": "2021-03-28T08:30:44.227219Z",
     "start_time": "2021-03-28T08:30:42.582285Z"
    }
   },
   "outputs": [],
   "source": [
    "import brainpy as bp\n",
    "import numpy as np\n",
    "\n",
    "bp.backend.set('numba')"
   ]
  },
  {
   "cell_type": "code",
   "execution_count": 2,
   "metadata": {
    "ExecuteTime": {
     "end_time": "2021-03-28T08:30:44.242221Z",
     "start_time": "2021-03-28T08:30:44.232221Z"
    }
   },
   "outputs": [],
   "source": [
    "Vr = 10.  # mV\n",
    "theta = 20.  # mV\n",
    "tau = 20.  # ms\n",
    "delta = 2.  # ms\n",
    "taurefr = 2.  # ms\n",
    "duration = 100.  # ms\n",
    "J = .1  # mV\n",
    "muext = 25.  # mV\n",
    "sigmaext = 1.  # mV\n",
    "C = 1000\n",
    "N = 5000\n",
    "sparseness = float(C) / N"
   ]
  },
  {
   "cell_type": "code",
   "execution_count": 3,
   "metadata": {
    "ExecuteTime": {
     "end_time": "2021-03-28T08:30:44.273308Z",
     "start_time": "2021-03-28T08:30:44.247210Z"
    }
   },
   "outputs": [],
   "source": [
    "class LIF(bp.NeuGroup):\n",
    "    target_backend = ['numpy', 'numba']\n",
    "\n",
    "    def __init__(self, size, **kwargs):\n",
    "        def f_v(V, t):\n",
    "            return (-V + muext) / tau\n",
    "\n",
    "        def g_v(V, t):\n",
    "            return sigmaext / np.sqrt(tau)\n",
    "\n",
    "        self.int_v = bp.sdeint(f=f_v, g=g_v)\n",
    "\n",
    "        self.spike = bp.ops.zeros(size, dtype=bool)\n",
    "        self.not_ref = bp.ops.ones(size, dtype=bool)\n",
    "        self.V = bp.ops.ones(size) * Vr\n",
    "        self.t_last_spike = -1e7 * bp.ops.ones(size)\n",
    "\n",
    "        super(LIF, self).__init__(size, **kwargs)\n",
    "\n",
    "    def update(self, _t):\n",
    "        for i in range(self.num):\n",
    "            self.spike[i] = False\n",
    "            self.not_ref[i] = False\n",
    "            if (_t - self.t_last_spike[i]) > taurefr:\n",
    "                V = self.int_v(self.V[i], _t)\n",
    "                if V > theta:\n",
    "                    self.spike[i] = True\n",
    "                    self.V[i] = Vr\n",
    "                    self.t_last_spike[i] = _t\n",
    "                else:\n",
    "                    self.V[i] = V\n",
    "                    self.not_ref[i] = True"
   ]
  },
  {
   "cell_type": "code",
   "execution_count": 4,
   "metadata": {
    "ExecuteTime": {
     "end_time": "2021-03-28T08:30:44.290299Z",
     "start_time": "2021-03-28T08:30:44.279293Z"
    },
    "lines_to_next_cell": 1
   },
   "outputs": [],
   "source": [
    "class Syn(bp.TwoEndConn):\n",
    "    target_backend = ['numpy', 'numba']\n",
    "\n",
    "    def __init__(self, pre, post, conn, delay, **kwargs):\n",
    "        self.conn = conn(pre.size, post.size)\n",
    "        self.pre2post = self.conn.requires('pre2post')\n",
    "        self.g = self.register_constant_delay('g', post.num, delay_time=delay)\n",
    "        super(Syn, self).__init__(pre, post, **kwargs)\n",
    "\n",
    "    def update(self, _t):\n",
    "        s = bp.ops.zeros(self.post.num)\n",
    "        for pre_i, spike in enumerate(self.pre.spike):\n",
    "            if spike:\n",
    "                for post_i in self.pre2post[pre_i]:\n",
    "                    s[post_i] += J\n",
    "        self.g.push(s)\n",
    "        self.post.V -= self.g.pull() * self.post.not_ref"
   ]
  },
  {
   "cell_type": "code",
   "execution_count": 5,
   "metadata": {
    "ExecuteTime": {
     "end_time": "2021-03-28T08:30:51.971272Z",
     "start_time": "2021-03-28T08:30:44.296295Z"
    }
   },
   "outputs": [
    {
     "name": "stdout",
     "output_type": "stream",
     "text": [
      "Compilation used 1.8973 s.\n",
      "Start running ...\n",
      "Run 10.0% used 0.186 s.\n",
      "Run 20.0% used 0.366 s.\n",
      "Run 30.0% used 0.542 s.\n",
      "Run 40.0% used 0.728 s.\n",
      "Run 50.0% used 0.912 s.\n",
      "Run 60.0% used 1.091 s.\n",
      "Run 70.0% used 1.262 s.\n",
      "Run 80.0% used 1.427 s.\n",
      "Run 90.0% used 1.626 s.\n",
      "Run 100.0% used 1.805 s.\n",
      "Simulation is done in 1.805 s.\n",
      "\n"
     ]
    }
   ],
   "source": [
    "group = LIF(N, monitors=['spike'])\n",
    "conn = Syn(pre=group, post=group, conn=bp.connect.FixedProb(sparseness), delay=delta)\n",
    "net = bp.Network(group, conn)\n",
    "net.run(duration, report=True)"
   ]
  },
  {
   "cell_type": "code",
   "execution_count": 6,
   "metadata": {
    "ExecuteTime": {
     "end_time": "2021-03-28T08:30:52.241860Z",
     "start_time": "2021-03-28T08:30:51.974105Z"
    }
   },
   "outputs": [
    {
     "data": {
      "image/png": "[encoded data removed]",
      "text/plain": [
       "<Figure size 432x288 with 1 Axes>"
      ]
     },
     "metadata": {
      "needs_background": "light"
     },
     "output_type": "display_data"
    }
   ],
   "source": [
    "bp.visualize.raster_plot(net.ts, group.mon.spike, xlim=(0, duration), show=True)"
   ]
  }
 ],
 "metadata": {
  "hide_input": false,
  "kernelspec": {
   "display_name": "Python 3",
   "language": "python",
   "name": "python3"
  },
  "language_info": {
   "codemirror_mode": {
    "name": "ipython",
    "version": 3
   },
   "file_extension": ".py",
   "mimetype": "text/x-python",
   "name": "python",
   "nbconvert_exporter": "python",
   "pygments_lexer": "ipython3",
   "version": "3.8.5"
  },
  "toc": {
   "base_numbering": 1,
   "nav_menu": {},
   "number_sections": false,
   "sideBar": true,
   "skip_h1_title": false,
   "title_cell": "Table of Contents",
   "title_sidebar": "Contents",
   "toc_cell": false,
   "toc_position": {},
   "toc_section_display": true,
   "toc_window_display": false
  },
  "varInspector": {
   "cols": {
    "lenName": 16,
    "lenType": 16,
    "lenVar": 40
   },
   "kernels_config": {
    "python": {
     "delete_cmd_postfix": "",
     "delete_cmd_prefix": "del ",
     "library": "var_list.py",
     "varRefreshCmd": "print(var_dic_list())"
    },
    "r": {
     "delete_cmd_postfix": ") ",
     "delete_cmd_prefix": "rm(",
     "library": "var_list.r",
     "varRefreshCmd": "cat(var_dic_list()) "
    }
   },
   "types_to_exclude": [
    "module",
    "function",
    "builtin_function_or_method",
    "instance",
    "_Feature"
   ],
   "window_display": false
  }
 },
 "nbformat": 4,
 "nbformat_minor": 4
}
