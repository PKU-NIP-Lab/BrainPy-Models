{
 "cells": [
  {
   "cell_type": "markdown",
   "metadata": {},
   "source": [
    "# _(Si Wu, 2008)_ Continuous-attractor Neural Network"
   ]
  },
  {
   "cell_type": "markdown",
   "metadata": {},
   "source": [
    "Here we show the implementation of the paper:\n",
    "\n",
    "- Si Wu, Kosuke Hamaguchi, and Shun-ichi Amari. \"Dynamics and computation\n",
    "  of continuous attractors.\" Neural computation 20.4 (2008): 994-1025.\n",
    "\n",
    "The mathematical equation of the Continuous-attractor Neural Network (CANN) is given by:\n",
    "\n",
    "$$\\tau \\frac{du(x,t)}{dt} = -u(x,t) + \\rho \\int dx' J(x,x') r(x',t)+I_{ext}$$\n",
    "\n",
    "$$r(x,t) = \\frac{u(x,t)^2}{1 + k \\rho \\int dx' u(x',t)^2}$$\n",
    "\n",
    "$$J(x,x') = \\frac{1}{\\sqrt{2\\pi}a}\\exp(-\\frac{|x-x'|^2}{2a^2})$$\n",
    "\n",
    "$$I_{ext} = A\\exp\\left[-\\frac{|x-z(t)|^2}{4a^2}\\right]$$"
   ]
  },
  {
   "cell_type": "code",
   "execution_count": 1,
   "metadata": {
    "ExecuteTime": {
     "end_time": "2021-03-25T15:00:04.732657Z",
     "start_time": "2021-03-25T15:00:02.809422Z"
    }
   },
   "outputs": [],
   "source": [
    "import numpy as np\n",
    "import brainpy as bp\n",
    "\n",
    "\n",
    "class CANN1D(bp.NeuGroup):\n",
    "    target_backend = ['numpy', 'numba']\n",
    "\n",
    "    def __init__(self, num, tau=1., k=8.1, a=0.5, A=10., J0=4.,\n",
    "                 z_min=-np.pi, z_max=np.pi, **kwargs):\n",
    "        # parameters\n",
    "        self.tau = tau  # The synaptic time constant\n",
    "        self.k = k  # Degree of the rescaled inhibition\n",
    "        self.a = a  # Half-width of the range of excitatory connections\n",
    "        self.A = A  # Magnitude of the external input\n",
    "        self.J0 = J0  # maximum connection value\n",
    "\n",
    "        # feature space\n",
    "        self.z_min = z_min\n",
    "        self.z_max = z_max\n",
    "        self.z_range = z_max - z_min\n",
    "        self.x = np.linspace(z_min, z_max, num)  # The encoded feature values\n",
    "\n",
    "        # variables\n",
    "        self.u = np.zeros(num)\n",
    "        self.input = np.zeros(num)\n",
    "\n",
    "        # The connection matrix\n",
    "        self.conn_mat = self.make_conn(self.x)\n",
    "\n",
    "        super(CANN1D, self).__init__(size=num, **kwargs)\n",
    "\n",
    "        self.rho = num / self.z_range  # The neural density\n",
    "        self.dx = self.z_range / num  # The stimulus density\n",
    "\n",
    "    def dist(self, d):\n",
    "        d = np.remainder(d, self.z_range)\n",
    "        d = np.where(d > 0.5 * self.z_range, d - self.z_range, d)\n",
    "        return d\n",
    "\n",
    "    def make_conn(self, x):\n",
    "        assert np.ndim(x) == 1\n",
    "        x_left = np.reshape(x, (-1, 1))\n",
    "        x_right = np.repeat(x.reshape((1, -1)), len(x), axis=0)\n",
    "        d = self.dist(x_left - x_right)\n",
    "        Jxx = self.J0 * np.exp(-0.5 * np.square(d / self.a)) / (np.sqrt(2 * np.pi) * self.a)\n",
    "        return Jxx\n",
    "\n",
    "    def get_stimulus_by_pos(self, pos):\n",
    "        return self.A * np.exp(-0.25 * np.square(self.dist(self.x - pos) / self.a))\n",
    "\n",
    "    @staticmethod\n",
    "    @bp.odeint(method='rk4', dt=0.05)\n",
    "    def int_u(u, t, conn, k, tau, Iext):\n",
    "        r1 = np.square(u)\n",
    "        r2 = 1.0 + k * np.sum(r1)\n",
    "        r = r1 / r2\n",
    "        Irec = np.dot(conn, r)\n",
    "        du = (-u + Irec + Iext) / tau\n",
    "        return du\n",
    "\n",
    "    def update(self, _t):\n",
    "        self.u = self.int_u(self.u, _t, self.conn_mat, self.k, self.tau, self.input)\n",
    "        self.input[:] = 0.\n"
   ]
  },
  {
   "cell_type": "markdown",
   "metadata": {},
   "source": [
    "### Population coding"
   ]
  },
  {
   "cell_type": "code",
   "execution_count": 2,
   "metadata": {
    "ExecuteTime": {
     "end_time": "2021-03-25T15:00:04.938131Z",
     "start_time": "2021-03-25T15:00:04.746136Z"
    }
   },
   "outputs": [],
   "source": [
    "cann = CANN1D(num=512, k=0.1, monitors=['u'])\n",
    "\n",
    "I1 = cann.get_stimulus_by_pos(0.)\n",
    "Iext, duration = bp.inputs.constant_current([(0., 1.), (I1, 8.), (0., 8.)])\n",
    "cann.run(duration=duration, inputs=('input', Iext))\n",
    "\n",
    "bp.visualize.animate_1D(\n",
    "    dynamical_vars=[{'ys': cann.mon.u, 'xs': cann.x, 'legend': 'u'},\n",
    "                    {'ys': Iext, 'xs': cann.x, 'legend': 'Iext'}],\n",
    "    frame_step=1,\n",
    "    frame_delay=100,\n",
    "    show=True,\n",
    "    # save_path='../../images/CANN-encoding.gif'\n",
    ")"
   ]
  },
  {
   "cell_type": "markdown",
   "metadata": {},
   "source": [
    "<img src=\"../images/CANN-encoding.gif\">"
   ]
  },
  {
   "cell_type": "markdown",
   "metadata": {},
   "source": [
    "### Template matching"
   ]
  },
  {
   "cell_type": "markdown",
   "metadata": {},
   "source": [
    "The CANN can perform efficient population decoding by achieving template-matching. "
   ]
  },
  {
   "cell_type": "code",
   "execution_count": 3,
   "metadata": {
    "ExecuteTime": {
     "end_time": "2021-03-25T15:00:05.191127Z",
     "start_time": "2021-03-25T15:00:04.942134Z"
    }
   },
   "outputs": [],
   "source": [
    "cann = CANN1D(num=512, k=8.1, monitors=['u'])\n",
    "\n",
    "dur1, dur2, dur3 = 10., 30., 0.\n",
    "num1 = int(dur1 / bp.ops.get_dt())\n",
    "num2 = int(dur2 / bp.ops.get_dt())\n",
    "num3 = int(dur3 / bp.ops.get_dt())\n",
    "Iext = np.zeros((num1 + num2 + num3,) + cann.size)\n",
    "Iext[:num1] = cann.get_stimulus_by_pos(0.5)\n",
    "Iext[num1:num1 + num2] = cann.get_stimulus_by_pos(0.)\n",
    "Iext[num1:num1 + num2] += 0.1 * cann.A * np.random.randn(num2, *cann.size)\n",
    "cann.run(duration=dur1 + dur2 + dur3, inputs=('input', Iext))\n",
    "\n",
    "bp.visualize.animate_1D(\n",
    "    dynamical_vars=[{'ys': cann.mon.u, 'xs': cann.x, 'legend': 'u'},\n",
    "                    {'ys': Iext, 'xs': cann.x, 'legend': 'Iext'}],\n",
    "    frame_step=5,\n",
    "    frame_delay=50,\n",
    "    show=True,\n",
    "    # save_path='../../images/CANN-decoding.gif'\n",
    ")"
   ]
  },
  {
   "cell_type": "markdown",
   "metadata": {},
   "source": [
    "<img src=\"../images/CANN-decoding.gif\">"
   ]
  },
  {
   "cell_type": "markdown",
   "metadata": {},
   "source": [
    "### Smooth tracking\n",
    "\n",
    "The CANN can track moving stimulus. "
   ]
  },
  {
   "cell_type": "code",
   "execution_count": 4,
   "metadata": {
    "ExecuteTime": {
     "end_time": "2021-03-25T15:00:05.475128Z",
     "start_time": "2021-03-25T15:00:05.194134Z"
    }
   },
   "outputs": [],
   "source": [
    "cann = CANN1D(num=512, k=8.1, monitors=['u'])\n",
    "\n",
    "dur1, dur2, dur3 = 20., 20., 20.\n",
    "num1 = int(dur1 / bp.ops.get_dt())\n",
    "num2 = int(dur2 / bp.ops.get_dt())\n",
    "num3 = int(dur3 / bp.ops.get_dt())\n",
    "position = np.zeros(num1 + num2 + num3)\n",
    "position[num1: num1 + num2] = np.linspace(0., 12., num2)\n",
    "position[num1 + num2:] = 12.\n",
    "position = position.reshape((-1, 1))\n",
    "Iext = cann.get_stimulus_by_pos(position)\n",
    "cann.run(duration=dur1 + dur2 + dur3, inputs=('input', Iext))\n",
    "\n",
    "bp.visualize.animate_1D(\n",
    "    dynamical_vars=[{'ys': cann.mon.u, 'xs': cann.x, 'legend': 'u'},\n",
    "                    {'ys': Iext, 'xs': cann.x, 'legend': 'Iext'}],\n",
    "    frame_step=5,\n",
    "    frame_delay=50,\n",
    "    show=True,\n",
    "    # save_path='../../images/CANN-tracking.gif'\n",
    ")"
   ]
  },
  {
   "cell_type": "markdown",
   "metadata": {},
   "source": [
    "<img src=\"../images/CANN-tracking.gif\">"
   ]
  }
 ],
 "metadata": {
  "hide_input": false,
  "kernelspec": {
   "display_name": "Python 3",
   "language": "python",
   "name": "python3"
  },
  "language_info": {
   "codemirror_mode": {
    "name": "ipython",
    "version": 3
   },
   "file_extension": ".py",
   "mimetype": "text/x-python",
   "name": "python",
   "nbconvert_exporter": "python",
   "pygments_lexer": "ipython3",
   "version": "3.8.3"
  },
  "toc": {
   "base_numbering": 1,
   "nav_menu": {},
   "number_sections": false,
   "sideBar": true,
   "skip_h1_title": false,
   "title_cell": "Table of Contents",
   "title_sidebar": "Contents",
   "toc_cell": false,
   "toc_position": {},
   "toc_section_display": true,
   "toc_window_display": true
  },
  "varInspector": {
   "cols": {
    "lenName": 16,
    "lenType": 16,
    "lenVar": 40
   },
   "kernels_config": {
    "python": {
     "delete_cmd_postfix": "",
     "delete_cmd_prefix": "del ",
     "library": "var_list.py",
     "varRefreshCmd": "print(var_dic_list())"
    },
    "r": {
     "delete_cmd_postfix": ") ",
     "delete_cmd_prefix": "rm(",
     "library": "var_list.r",
     "varRefreshCmd": "cat(var_dic_list()) "
    }
   },
   "types_to_exclude": [
    "module",
    "function",
    "builtin_function_or_method",
    "instance",
    "_Feature"
   ],
   "window_display": false
  }
 },
 "nbformat": 4,
 "nbformat_minor": 4
}
